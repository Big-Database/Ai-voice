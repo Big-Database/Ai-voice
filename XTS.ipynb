{
 "cells": [
  {
   "cell_type": "code",
   "execution_count": 1,
   "id": "087d7884",
   "metadata": {},
   "outputs": [
    {
     "name": "stderr",
     "output_type": "stream",
     "text": [
      "/Users/timomichaelis/anaconda3/envs/T1/lib/python3.11/site-packages/torch/utils/_pytree.py:185: FutureWarning: optree is installed but the version is too old to support PyTorch Dynamo in C++ pytree. C++ pytree support is disabled. Please consider upgrading optree using `python3 -m pip install --upgrade 'optree>=0.13.0'`.\n",
      "  warnings.warn(\n"
     ]
    },
    {
     "ename": "AttributeError",
     "evalue": "partially initialized module 'charset_normalizer' has no attribute 'md__mypyc' (most likely due to a circular import)",
     "output_type": "error",
     "traceback": [
      "\u001b[0;31m---------------------------------------------------------------------------\u001b[0m",
      "\u001b[0;31mAttributeError\u001b[0m                            Traceback (most recent call last)",
      "\u001b[1;32m/Users/timomichaelis/Documents/Side Projects/ML/XTS.ipynb Cell 1\u001b[0m line \u001b[0;36m1\n\u001b[0;32m----> <a href='vscode-notebook-cell:/Users/timomichaelis/Documents/Side%20Projects/ML/XTS.ipynb#W0sZmlsZQ%3D%3D?line=0'>1</a>\u001b[0m \u001b[39mfrom\u001b[39;00m \u001b[39mTTS\u001b[39;00m\u001b[39m.\u001b[39;00m\u001b[39mapi\u001b[39;00m \u001b[39mimport\u001b[39;00m TTS\n\u001b[1;32m      <a href='vscode-notebook-cell:/Users/timomichaelis/Documents/Side%20Projects/ML/XTS.ipynb#W0sZmlsZQ%3D%3D?line=1'>2</a>\u001b[0m \u001b[39mfrom\u001b[39;00m \u001b[39mIPython\u001b[39;00m\u001b[39m.\u001b[39;00m\u001b[39mdisplay\u001b[39;00m \u001b[39mimport\u001b[39;00m Audio\n\u001b[1;32m      <a href='vscode-notebook-cell:/Users/timomichaelis/Documents/Side%20Projects/ML/XTS.ipynb#W0sZmlsZQ%3D%3D?line=2'>3</a>\u001b[0m \u001b[39mimport\u001b[39;00m \u001b[39mlibrosa\u001b[39;00m\n",
      "File \u001b[0;32m~/anaconda3/envs/T1/lib/python3.11/site-packages/TTS/api.py:10\u001b[0m\n\u001b[1;32m      7\u001b[0m \u001b[39mfrom\u001b[39;00m \u001b[39mtorch\u001b[39;00m \u001b[39mimport\u001b[39;00m nn\n\u001b[1;32m      9\u001b[0m \u001b[39mfrom\u001b[39;00m \u001b[39mTTS\u001b[39;00m\u001b[39m.\u001b[39;00m\u001b[39mutils\u001b[39;00m\u001b[39m.\u001b[39;00m\u001b[39maudio\u001b[39;00m\u001b[39m.\u001b[39;00m\u001b[39mnumpy_transforms\u001b[39;00m \u001b[39mimport\u001b[39;00m save_wav\n\u001b[0;32m---> 10\u001b[0m \u001b[39mfrom\u001b[39;00m \u001b[39mTTS\u001b[39;00m\u001b[39m.\u001b[39;00m\u001b[39mutils\u001b[39;00m\u001b[39m.\u001b[39;00m\u001b[39mmanage\u001b[39;00m \u001b[39mimport\u001b[39;00m ModelManager\n\u001b[1;32m     11\u001b[0m \u001b[39mfrom\u001b[39;00m \u001b[39mTTS\u001b[39;00m\u001b[39m.\u001b[39;00m\u001b[39mutils\u001b[39;00m\u001b[39m.\u001b[39;00m\u001b[39msynthesizer\u001b[39;00m \u001b[39mimport\u001b[39;00m Synthesizer\n\u001b[1;32m     12\u001b[0m \u001b[39mfrom\u001b[39;00m \u001b[39mTTS\u001b[39;00m\u001b[39m.\u001b[39;00m\u001b[39mconfig\u001b[39;00m \u001b[39mimport\u001b[39;00m load_config\n",
      "File \u001b[0;32m~/anaconda3/envs/T1/lib/python3.11/site-packages/TTS/utils/manage.py:11\u001b[0m\n\u001b[1;32m      8\u001b[0m \u001b[39mfrom\u001b[39;00m \u001b[39mtyping\u001b[39;00m \u001b[39mimport\u001b[39;00m Dict, List, Tuple\n\u001b[1;32m     10\u001b[0m \u001b[39mimport\u001b[39;00m \u001b[39mfsspec\u001b[39;00m\n\u001b[0;32m---> 11\u001b[0m \u001b[39mimport\u001b[39;00m \u001b[39mrequests\u001b[39;00m\n\u001b[1;32m     12\u001b[0m \u001b[39mfrom\u001b[39;00m \u001b[39mtqdm\u001b[39;00m \u001b[39mimport\u001b[39;00m tqdm\n\u001b[1;32m     14\u001b[0m \u001b[39mfrom\u001b[39;00m \u001b[39mTTS\u001b[39;00m\u001b[39m.\u001b[39;00m\u001b[39mconfig\u001b[39;00m \u001b[39mimport\u001b[39;00m load_config, read_json_with_comments\n",
      "File \u001b[0;32m~/anaconda3/envs/T1/lib/python3.11/site-packages/requests/__init__.py:48\u001b[0m\n\u001b[1;32m     45\u001b[0m \u001b[39mfrom\u001b[39;00m \u001b[39m.\u001b[39;00m\u001b[39mexceptions\u001b[39;00m \u001b[39mimport\u001b[39;00m RequestsDependencyWarning\n\u001b[1;32m     47\u001b[0m \u001b[39mtry\u001b[39;00m:\n\u001b[0;32m---> 48\u001b[0m     \u001b[39mfrom\u001b[39;00m \u001b[39mcharset_normalizer\u001b[39;00m \u001b[39mimport\u001b[39;00m __version__ \u001b[39mas\u001b[39;00m charset_normalizer_version\n\u001b[1;32m     49\u001b[0m \u001b[39mexcept\u001b[39;00m \u001b[39mImportError\u001b[39;00m:\n\u001b[1;32m     50\u001b[0m     charset_normalizer_version \u001b[39m=\u001b[39m \u001b[39mNone\u001b[39;00m\n",
      "File \u001b[0;32m~/anaconda3/envs/T1/lib/python3.11/site-packages/charset_normalizer/__init__.py:26\u001b[0m\n\u001b[1;32m     22\u001b[0m \u001b[39mfrom\u001b[39;00m \u001b[39m__future__\u001b[39;00m \u001b[39mimport\u001b[39;00m annotations\n\u001b[1;32m     24\u001b[0m \u001b[39mimport\u001b[39;00m \u001b[39mlogging\u001b[39;00m\n\u001b[0;32m---> 26\u001b[0m \u001b[39mfrom\u001b[39;00m \u001b[39m.\u001b[39;00m\u001b[39mapi\u001b[39;00m \u001b[39mimport\u001b[39;00m from_bytes, from_fp, from_path, is_binary\n\u001b[1;32m     27\u001b[0m \u001b[39mfrom\u001b[39;00m \u001b[39m.\u001b[39;00m\u001b[39mlegacy\u001b[39;00m \u001b[39mimport\u001b[39;00m detect\n\u001b[1;32m     28\u001b[0m \u001b[39mfrom\u001b[39;00m \u001b[39m.\u001b[39;00m\u001b[39mmodels\u001b[39;00m \u001b[39mimport\u001b[39;00m CharsetMatch, CharsetMatches\n",
      "File \u001b[0;32m~/anaconda3/envs/T1/lib/python3.11/site-packages/charset_normalizer/api.py:7\u001b[0m\n\u001b[1;32m      4\u001b[0m \u001b[39mfrom\u001b[39;00m \u001b[39mos\u001b[39;00m \u001b[39mimport\u001b[39;00m PathLike\n\u001b[1;32m      5\u001b[0m \u001b[39mfrom\u001b[39;00m \u001b[39mtyping\u001b[39;00m \u001b[39mimport\u001b[39;00m BinaryIO\n\u001b[0;32m----> 7\u001b[0m \u001b[39mfrom\u001b[39;00m \u001b[39m.\u001b[39;00m\u001b[39mcd\u001b[39;00m \u001b[39mimport\u001b[39;00m (\n\u001b[1;32m      8\u001b[0m     coherence_ratio,\n\u001b[1;32m      9\u001b[0m     encoding_languages,\n\u001b[1;32m     10\u001b[0m     mb_encoding_languages,\n\u001b[1;32m     11\u001b[0m     merge_coherence_ratios,\n\u001b[1;32m     12\u001b[0m )\n\u001b[1;32m     13\u001b[0m \u001b[39mfrom\u001b[39;00m \u001b[39m.\u001b[39;00m\u001b[39mconstant\u001b[39;00m \u001b[39mimport\u001b[39;00m IANA_SUPPORTED, TOO_BIG_SEQUENCE, TOO_SMALL_SEQUENCE, TRACE\n\u001b[1;32m     14\u001b[0m \u001b[39mfrom\u001b[39;00m \u001b[39m.\u001b[39;00m\u001b[39mmd\u001b[39;00m \u001b[39mimport\u001b[39;00m mess_ratio\n",
      "File \u001b[0;32m~/anaconda3/envs/T1/lib/python3.11/site-packages/charset_normalizer/cd.py:16\u001b[0m\n\u001b[1;32m      7\u001b[0m \u001b[39mfrom\u001b[39;00m \u001b[39mtyping\u001b[39;00m \u001b[39mimport\u001b[39;00m Counter \u001b[39mas\u001b[39;00m TypeCounter\n\u001b[1;32m      9\u001b[0m \u001b[39mfrom\u001b[39;00m \u001b[39m.\u001b[39;00m\u001b[39mconstant\u001b[39;00m \u001b[39mimport\u001b[39;00m (\n\u001b[1;32m     10\u001b[0m     FREQUENCIES,\n\u001b[1;32m     11\u001b[0m     KO_NAMES,\n\u001b[0;32m   (...)\u001b[0m\n\u001b[1;32m     14\u001b[0m     ZH_NAMES,\n\u001b[1;32m     15\u001b[0m )\n\u001b[0;32m---> 16\u001b[0m \u001b[39mfrom\u001b[39;00m \u001b[39m.\u001b[39;00m\u001b[39mmd\u001b[39;00m \u001b[39mimport\u001b[39;00m is_suspiciously_successive_range\n\u001b[1;32m     17\u001b[0m \u001b[39mfrom\u001b[39;00m \u001b[39m.\u001b[39;00m\u001b[39mmodels\u001b[39;00m \u001b[39mimport\u001b[39;00m CoherenceMatches\n\u001b[1;32m     18\u001b[0m \u001b[39mfrom\u001b[39;00m \u001b[39m.\u001b[39;00m\u001b[39mutils\u001b[39;00m \u001b[39mimport\u001b[39;00m (\n\u001b[1;32m     19\u001b[0m     is_accentuated,\n\u001b[1;32m     20\u001b[0m     is_latin,\n\u001b[0;32m   (...)\u001b[0m\n\u001b[1;32m     23\u001b[0m     unicode_range,\n\u001b[1;32m     24\u001b[0m )\n",
      "\u001b[0;31mAttributeError\u001b[0m: partially initialized module 'charset_normalizer' has no attribute 'md__mypyc' (most likely due to a circular import)"
     ]
    }
   ],
   "source": [
    "from TTS.api import TTS\n",
    "from IPython.display import Audio\n",
    "import librosa\n",
    "import os\n",
    "\n",
    "# Load model\n",
    "tts = TTS(\"tts_models/multilingual/multi-dataset/xtts_v2\", gpu=True)\n",
    "\n",
    "wav = tts.tts(\"お世話になっております！はじめまして, 私はCoqui XTTS　V2です\",\n",
    "        speaker=\"Kazuhiko Atallah\",\n",
    "        language=\"ja\")\n",
    "\n",
    "display(Audio(wav, rate=24000))"
   ]
  },
  {
   "cell_type": "code",
   "execution_count": null,
   "id": "e28efb5f",
   "metadata": {},
   "outputs": [
    {
     "name": "stdout",
     "output_type": "stream",
     "text": [
      "Requirement already satisfied: TTS in /Users/timomichaelis/anaconda3/envs/T1/lib/python3.11/site-packages (0.22.0)\n",
      "Requirement already satisfied: numpy>=1.24.3 in /Users/timomichaelis/anaconda3/envs/T1/lib/python3.11/site-packages (from TTS) (1.25.2)\n",
      "Requirement already satisfied: cython>=0.29.30 in /Users/timomichaelis/anaconda3/envs/T1/lib/python3.11/site-packages (from TTS) (3.0.12)\n",
      "Requirement already satisfied: scipy>=1.11.2 in /Users/timomichaelis/anaconda3/envs/T1/lib/python3.11/site-packages (from TTS) (1.15.2)\n",
      "Requirement already satisfied: torch>=2.1 in /Users/timomichaelis/anaconda3/envs/T1/lib/python3.11/site-packages (from TTS) (2.6.0)\n",
      "Requirement already satisfied: torchaudio in /Users/timomichaelis/anaconda3/envs/T1/lib/python3.11/site-packages (from TTS) (2.6.0)\n",
      "Requirement already satisfied: soundfile>=0.12.0 in /Users/timomichaelis/anaconda3/envs/T1/lib/python3.11/site-packages (from TTS) (0.13.1)\n",
      "Requirement already satisfied: librosa>=0.10.0 in /Users/timomichaelis/anaconda3/envs/T1/lib/python3.11/site-packages (from TTS) (0.10.2.post1)\n",
      "Requirement already satisfied: scikit-learn>=1.3.0 in /Users/timomichaelis/anaconda3/envs/T1/lib/python3.11/site-packages (from TTS) (1.6.1)\n",
      "Requirement already satisfied: numba>=0.57.0 in /Users/timomichaelis/anaconda3/envs/T1/lib/python3.11/site-packages (from TTS) (0.61.0)\n",
      "Requirement already satisfied: inflect>=5.6.0 in /Users/timomichaelis/anaconda3/envs/T1/lib/python3.11/site-packages (from TTS) (7.5.0)\n",
      "Requirement already satisfied: tqdm>=4.64.1 in /Users/timomichaelis/anaconda3/envs/T1/lib/python3.11/site-packages (from TTS) (4.67.1)\n",
      "Requirement already satisfied: anyascii>=0.3.0 in /Users/timomichaelis/anaconda3/envs/T1/lib/python3.11/site-packages (from TTS) (0.3.2)\n",
      "Requirement already satisfied: pyyaml>=6.0 in /Users/timomichaelis/anaconda3/envs/T1/lib/python3.11/site-packages (from TTS) (6.0.2)\n",
      "Requirement already satisfied: fsspec>=2023.6.0 in /Users/timomichaelis/anaconda3/envs/T1/lib/python3.11/site-packages (from TTS) (2025.2.0)\n",
      "Requirement already satisfied: aiohttp>=3.8.1 in /Users/timomichaelis/anaconda3/envs/T1/lib/python3.11/site-packages (from TTS) (3.11.13)\n",
      "Requirement already satisfied: packaging>=23.1 in /Users/timomichaelis/anaconda3/envs/T1/lib/python3.11/site-packages (from TTS) (23.1)\n",
      "Requirement already satisfied: flask>=2.0.1 in /Users/timomichaelis/anaconda3/envs/T1/lib/python3.11/site-packages (from TTS) (3.1.0)\n",
      "Requirement already satisfied: pysbd>=0.3.4 in /Users/timomichaelis/anaconda3/envs/T1/lib/python3.11/site-packages (from TTS) (0.3.4)\n",
      "Requirement already satisfied: umap-learn>=0.5.1 in /Users/timomichaelis/anaconda3/envs/T1/lib/python3.11/site-packages (from TTS) (0.5.7)\n",
      "Requirement already satisfied: pandas<2.0,>=1.4 in /Users/timomichaelis/anaconda3/envs/T1/lib/python3.11/site-packages (from TTS) (1.5.3)\n",
      "Requirement already satisfied: matplotlib>=3.7.0 in /Users/timomichaelis/anaconda3/envs/T1/lib/python3.11/site-packages (from TTS) (3.7.2)\n",
      "Requirement already satisfied: trainer>=0.0.32 in /Users/timomichaelis/anaconda3/envs/T1/lib/python3.11/site-packages (from TTS) (0.0.36)\n",
      "Requirement already satisfied: coqpit>=0.0.16 in /Users/timomichaelis/anaconda3/envs/T1/lib/python3.11/site-packages (from TTS) (0.0.17)\n",
      "Requirement already satisfied: jieba in /Users/timomichaelis/anaconda3/envs/T1/lib/python3.11/site-packages (from TTS) (0.42.1)\n",
      "Requirement already satisfied: pypinyin in /Users/timomichaelis/anaconda3/envs/T1/lib/python3.11/site-packages (from TTS) (0.53.0)\n",
      "Requirement already satisfied: hangul_romanize in /Users/timomichaelis/anaconda3/envs/T1/lib/python3.11/site-packages (from TTS) (0.1.0)\n",
      "Requirement already satisfied: gruut[de,es,fr]==2.2.3 in /Users/timomichaelis/anaconda3/envs/T1/lib/python3.11/site-packages (from TTS) (2.2.3)\n",
      "Requirement already satisfied: jamo in /Users/timomichaelis/anaconda3/envs/T1/lib/python3.11/site-packages (from TTS) (0.4.1)\n",
      "Requirement already satisfied: nltk in /Users/timomichaelis/anaconda3/envs/T1/lib/python3.11/site-packages (from TTS) (3.9.1)\n",
      "Requirement already satisfied: g2pkk>=0.1.1 in /Users/timomichaelis/anaconda3/envs/T1/lib/python3.11/site-packages (from TTS) (0.1.2)\n",
      "Requirement already satisfied: bangla in /Users/timomichaelis/anaconda3/envs/T1/lib/python3.11/site-packages (from TTS) (0.0.2)\n",
      "Requirement already satisfied: bnnumerizer in /Users/timomichaelis/anaconda3/envs/T1/lib/python3.11/site-packages (from TTS) (0.0.2)\n",
      "Requirement already satisfied: bnunicodenormalizer in /Users/timomichaelis/anaconda3/envs/T1/lib/python3.11/site-packages (from TTS) (0.1.7)\n",
      "Requirement already satisfied: einops>=0.6.0 in /Users/timomichaelis/anaconda3/envs/T1/lib/python3.11/site-packages (from TTS) (0.8.1)\n",
      "Requirement already satisfied: transformers>=4.33.0 in /Users/timomichaelis/anaconda3/envs/T1/lib/python3.11/site-packages (from TTS) (4.49.0)\n",
      "Requirement already satisfied: encodec>=0.1.1 in /Users/timomichaelis/anaconda3/envs/T1/lib/python3.11/site-packages (from TTS) (0.1.1)\n",
      "Requirement already satisfied: unidecode>=1.3.2 in /Users/timomichaelis/anaconda3/envs/T1/lib/python3.11/site-packages (from TTS) (1.3.8)\n",
      "Requirement already satisfied: num2words in /Users/timomichaelis/anaconda3/envs/T1/lib/python3.11/site-packages (from TTS) (0.5.14)\n",
      "Requirement already satisfied: spacy[ja]>=3 in /Users/timomichaelis/anaconda3/envs/T1/lib/python3.11/site-packages (from TTS) (3.8.4)\n",
      "Requirement already satisfied: Babel<3.0.0,>=2.8.0 in /Users/timomichaelis/anaconda3/envs/T1/lib/python3.11/site-packages (from gruut[de,es,fr]==2.2.3->TTS) (2.17.0)\n",
      "Requirement already satisfied: dateparser~=1.1.0 in /Users/timomichaelis/anaconda3/envs/T1/lib/python3.11/site-packages (from gruut[de,es,fr]==2.2.3->TTS) (1.1.8)\n",
      "Requirement already satisfied: gruut-ipa<1.0,>=0.12.0 in /Users/timomichaelis/anaconda3/envs/T1/lib/python3.11/site-packages (from gruut[de,es,fr]==2.2.3->TTS) (0.13.0)\n",
      "Requirement already satisfied: gruut-lang-en~=2.0.0 in /Users/timomichaelis/anaconda3/envs/T1/lib/python3.11/site-packages (from gruut[de,es,fr]==2.2.3->TTS) (2.0.1)\n",
      "Requirement already satisfied: jsonlines~=1.2.0 in /Users/timomichaelis/anaconda3/envs/T1/lib/python3.11/site-packages (from gruut[de,es,fr]==2.2.3->TTS) (1.2.0)\n",
      "Requirement already satisfied: networkx<3.0.0,>=2.5.0 in /Users/timomichaelis/anaconda3/envs/T1/lib/python3.11/site-packages (from gruut[de,es,fr]==2.2.3->TTS) (2.8.8)\n",
      "Requirement already satisfied: python-crfsuite~=0.9.7 in /Users/timomichaelis/anaconda3/envs/T1/lib/python3.11/site-packages (from gruut[de,es,fr]==2.2.3->TTS) (0.9.11)\n",
      "Requirement already satisfied: gruut-lang-de~=2.0.0 in /Users/timomichaelis/anaconda3/envs/T1/lib/python3.11/site-packages (from gruut[de,es,fr]==2.2.3->TTS) (2.0.1)\n",
      "Requirement already satisfied: gruut-lang-es~=2.0.0 in /Users/timomichaelis/anaconda3/envs/T1/lib/python3.11/site-packages (from gruut[de,es,fr]==2.2.3->TTS) (2.0.1)\n",
      "Requirement already satisfied: gruut-lang-fr~=2.0.0 in /Users/timomichaelis/anaconda3/envs/T1/lib/python3.11/site-packages (from gruut[de,es,fr]==2.2.3->TTS) (2.0.2)\n",
      "Requirement already satisfied: aiohappyeyeballs>=2.3.0 in /Users/timomichaelis/anaconda3/envs/T1/lib/python3.11/site-packages (from aiohttp>=3.8.1->TTS) (2.4.6)\n",
      "Requirement already satisfied: aiosignal>=1.1.2 in /Users/timomichaelis/anaconda3/envs/T1/lib/python3.11/site-packages (from aiohttp>=3.8.1->TTS) (1.3.2)\n",
      "Requirement already satisfied: attrs>=17.3.0 in /Users/timomichaelis/anaconda3/envs/T1/lib/python3.11/site-packages (from aiohttp>=3.8.1->TTS) (23.1.0)\n",
      "Requirement already satisfied: frozenlist>=1.1.1 in /Users/timomichaelis/anaconda3/envs/T1/lib/python3.11/site-packages (from aiohttp>=3.8.1->TTS) (1.5.0)\n",
      "Requirement already satisfied: multidict<7.0,>=4.5 in /Users/timomichaelis/anaconda3/envs/T1/lib/python3.11/site-packages (from aiohttp>=3.8.1->TTS) (6.1.0)\n",
      "Requirement already satisfied: propcache>=0.2.0 in /Users/timomichaelis/anaconda3/envs/T1/lib/python3.11/site-packages (from aiohttp>=3.8.1->TTS) (0.3.0)\n",
      "Requirement already satisfied: yarl<2.0,>=1.17.0 in /Users/timomichaelis/anaconda3/envs/T1/lib/python3.11/site-packages (from aiohttp>=3.8.1->TTS) (1.18.3)\n",
      "Requirement already satisfied: Werkzeug>=3.1 in /Users/timomichaelis/anaconda3/envs/T1/lib/python3.11/site-packages (from flask>=2.0.1->TTS) (3.1.3)\n",
      "Requirement already satisfied: Jinja2>=3.1.2 in /Users/timomichaelis/anaconda3/envs/T1/lib/python3.11/site-packages (from flask>=2.0.1->TTS) (3.1.2)\n",
      "Requirement already satisfied: itsdangerous>=2.2 in /Users/timomichaelis/anaconda3/envs/T1/lib/python3.11/site-packages (from flask>=2.0.1->TTS) (2.2.0)\n",
      "Requirement already satisfied: click>=8.1.3 in /Users/timomichaelis/anaconda3/envs/T1/lib/python3.11/site-packages (from flask>=2.0.1->TTS) (8.1.8)\n",
      "Requirement already satisfied: blinker>=1.9 in /Users/timomichaelis/anaconda3/envs/T1/lib/python3.11/site-packages (from flask>=2.0.1->TTS) (1.9.0)\n",
      "Requirement already satisfied: more_itertools>=8.5.0 in /Users/timomichaelis/anaconda3/envs/T1/lib/python3.11/site-packages (from inflect>=5.6.0->TTS) (10.6.0)\n"
     ]
    },
    {
     "name": "stdout",
     "output_type": "stream",
     "text": [
      "Requirement already satisfied: typeguard>=4.0.1 in /Users/timomichaelis/anaconda3/envs/T1/lib/python3.11/site-packages (from inflect>=5.6.0->TTS) (4.4.2)\n",
      "Requirement already satisfied: audioread>=2.1.9 in /Users/timomichaelis/anaconda3/envs/T1/lib/python3.11/site-packages (from librosa>=0.10.0->TTS) (3.0.1)\n",
      "Requirement already satisfied: joblib>=0.14 in /Users/timomichaelis/anaconda3/envs/T1/lib/python3.11/site-packages (from librosa>=0.10.0->TTS) (1.4.2)\n",
      "Requirement already satisfied: decorator>=4.3.0 in /Users/timomichaelis/anaconda3/envs/T1/lib/python3.11/site-packages (from librosa>=0.10.0->TTS) (5.1.1)\n",
      "Requirement already satisfied: pooch>=1.1 in /Users/timomichaelis/anaconda3/envs/T1/lib/python3.11/site-packages (from librosa>=0.10.0->TTS) (1.8.2)\n",
      "Requirement already satisfied: soxr>=0.3.2 in /Users/timomichaelis/anaconda3/envs/T1/lib/python3.11/site-packages (from librosa>=0.10.0->TTS) (0.5.0.post1)\n",
      "Requirement already satisfied: typing-extensions>=4.1.1 in /Users/timomichaelis/anaconda3/envs/T1/lib/python3.11/site-packages (from librosa>=0.10.0->TTS) (4.12.2)\n",
      "Requirement already satisfied: lazy-loader>=0.1 in /Users/timomichaelis/anaconda3/envs/T1/lib/python3.11/site-packages (from librosa>=0.10.0->TTS) (0.4)\n",
      "Requirement already satisfied: msgpack>=1.0 in /Users/timomichaelis/anaconda3/envs/T1/lib/python3.11/site-packages (from librosa>=0.10.0->TTS) (1.1.0)\n",
      "Requirement already satisfied: contourpy>=1.0.1 in /Users/timomichaelis/anaconda3/envs/T1/lib/python3.11/site-packages (from matplotlib>=3.7.0->TTS) (1.1.0)\n",
      "Requirement already satisfied: cycler>=0.10 in /Users/timomichaelis/anaconda3/envs/T1/lib/python3.11/site-packages (from matplotlib>=3.7.0->TTS) (0.11.0)\n",
      "Requirement already satisfied: fonttools>=4.22.0 in /Users/timomichaelis/anaconda3/envs/T1/lib/python3.11/site-packages (from matplotlib>=3.7.0->TTS) (4.42.1)\n",
      "Requirement already satisfied: kiwisolver>=1.0.1 in /Users/timomichaelis/anaconda3/envs/T1/lib/python3.11/site-packages (from matplotlib>=3.7.0->TTS) (1.4.5)\n",
      "Requirement already satisfied: pillow>=6.2.0 in /Users/timomichaelis/anaconda3/envs/T1/lib/python3.11/site-packages (from matplotlib>=3.7.0->TTS) (10.0.0)\n",
      "Requirement already satisfied: pyparsing<3.1,>=2.3.1 in /Users/timomichaelis/anaconda3/envs/T1/lib/python3.11/site-packages (from matplotlib>=3.7.0->TTS) (3.0.9)\n",
      "Requirement already satisfied: python-dateutil>=2.7 in /Users/timomichaelis/anaconda3/envs/T1/lib/python3.11/site-packages (from matplotlib>=3.7.0->TTS) (2.8.2)\n",
      "Requirement already satisfied: docopt>=0.6.2 in /Users/timomichaelis/anaconda3/envs/T1/lib/python3.11/site-packages (from num2words->TTS) (0.6.2)\n",
      "Requirement already satisfied: llvmlite<0.45,>=0.44.0dev0 in /Users/timomichaelis/anaconda3/envs/T1/lib/python3.11/site-packages (from numba>=0.57.0->TTS) (0.44.0)\n",
      "Requirement already satisfied: pytz>=2020.1 in /Users/timomichaelis/anaconda3/envs/T1/lib/python3.11/site-packages (from pandas<2.0,>=1.4->TTS) (2023.3.post1)\n",
      "Requirement already satisfied: threadpoolctl>=3.1.0 in /Users/timomichaelis/anaconda3/envs/T1/lib/python3.11/site-packages (from scikit-learn>=1.3.0->TTS) (3.5.0)\n",
      "Requirement already satisfied: cffi>=1.0 in /Users/timomichaelis/anaconda3/envs/T1/lib/python3.11/site-packages (from soundfile>=0.12.0->TTS) (1.17.1)\n",
      "Requirement already satisfied: spacy-legacy<3.1.0,>=3.0.11 in /Users/timomichaelis/anaconda3/envs/T1/lib/python3.11/site-packages (from spacy[ja]>=3->TTS) (3.0.12)\n",
      "Requirement already satisfied: spacy-loggers<2.0.0,>=1.0.0 in /Users/timomichaelis/anaconda3/envs/T1/lib/python3.11/site-packages (from spacy[ja]>=3->TTS) (1.0.5)\n",
      "Requirement already satisfied: murmurhash<1.1.0,>=0.28.0 in /Users/timomichaelis/anaconda3/envs/T1/lib/python3.11/site-packages (from spacy[ja]>=3->TTS) (1.0.12)\n",
      "Requirement already satisfied: cymem<2.1.0,>=2.0.2 in /Users/timomichaelis/anaconda3/envs/T1/lib/python3.11/site-packages (from spacy[ja]>=3->TTS) (2.0.11)\n",
      "Requirement already satisfied: preshed<3.1.0,>=3.0.2 in /Users/timomichaelis/anaconda3/envs/T1/lib/python3.11/site-packages (from spacy[ja]>=3->TTS) (3.0.9)\n",
      "Requirement already satisfied: thinc<8.4.0,>=8.3.4 in /Users/timomichaelis/anaconda3/envs/T1/lib/python3.11/site-packages (from spacy[ja]>=3->TTS) (8.3.4)\n",
      "Requirement already satisfied: wasabi<1.2.0,>=0.9.1 in /Users/timomichaelis/anaconda3/envs/T1/lib/python3.11/site-packages (from spacy[ja]>=3->TTS) (1.1.3)\n",
      "Requirement already satisfied: srsly<3.0.0,>=2.4.3 in /Users/timomichaelis/anaconda3/envs/T1/lib/python3.11/site-packages (from spacy[ja]>=3->TTS) (2.5.1)\n",
      "Requirement already satisfied: catalogue<2.1.0,>=2.0.6 in /Users/timomichaelis/anaconda3/envs/T1/lib/python3.11/site-packages (from spacy[ja]>=3->TTS) (2.0.10)\n",
      "Requirement already satisfied: weasel<0.5.0,>=0.1.0 in /Users/timomichaelis/anaconda3/envs/T1/lib/python3.11/site-packages (from spacy[ja]>=3->TTS) (0.4.1)\n",
      "Requirement already satisfied: typer<1.0.0,>=0.3.0 in /Users/timomichaelis/anaconda3/envs/T1/lib/python3.11/site-packages (from spacy[ja]>=3->TTS) (0.15.2)\n",
      "Requirement already satisfied: requests<3.0.0,>=2.13.0 in /Users/timomichaelis/anaconda3/envs/T1/lib/python3.11/site-packages (from spacy[ja]>=3->TTS) (2.32.3)\n",
      "Requirement already satisfied: pydantic!=1.8,!=1.8.1,<3.0.0,>=1.7.4 in /Users/timomichaelis/anaconda3/envs/T1/lib/python3.11/site-packages (from spacy[ja]>=3->TTS) (2.10.6)\n",
      "Requirement already satisfied: setuptools in /Users/timomichaelis/anaconda3/envs/T1/lib/python3.11/site-packages (from spacy[ja]>=3->TTS) (68.0.0)\n",
      "Requirement already satisfied: langcodes<4.0.0,>=3.2.0 in /Users/timomichaelis/anaconda3/envs/T1/lib/python3.11/site-packages (from spacy[ja]>=3->TTS) (3.5.0)\n",
      "Requirement already satisfied: sudachipy!=0.6.1,>=0.5.2 in /Users/timomichaelis/anaconda3/envs/T1/lib/python3.11/site-packages (from spacy[ja]>=3->TTS) (0.6.10)\n",
      "Requirement already satisfied: sudachidict_core>=20211220 in /Users/timomichaelis/anaconda3/envs/T1/lib/python3.11/site-packages (from spacy[ja]>=3->TTS) (20250129)\n",
      "Requirement already satisfied: filelock in /Users/timomichaelis/anaconda3/envs/T1/lib/python3.11/site-packages (from torch>=2.1->TTS) (3.17.0)\n",
      "Requirement already satisfied: sympy==1.13.1 in /Users/timomichaelis/anaconda3/envs/T1/lib/python3.11/site-packages (from torch>=2.1->TTS) (1.13.1)\n",
      "Requirement already satisfied: mpmath<1.4,>=1.1.0 in /Users/timomichaelis/anaconda3/envs/T1/lib/python3.11/site-packages (from sympy==1.13.1->torch>=2.1->TTS) (1.3.0)\n",
      "Requirement already satisfied: psutil in /Users/timomichaelis/anaconda3/envs/T1/lib/python3.11/site-packages (from trainer>=0.0.32->TTS) (5.9.5)\n",
      "Requirement already satisfied: tensorboard in /Users/timomichaelis/anaconda3/envs/T1/lib/python3.11/site-packages (from trainer>=0.0.32->TTS) (2.17.0)\n",
      "Requirement already satisfied: huggingface-hub<1.0,>=0.26.0 in /Users/timomichaelis/anaconda3/envs/T1/lib/python3.11/site-packages (from transformers>=4.33.0->TTS) (0.29.1)\n",
      "Requirement already satisfied: regex!=2019.12.17 in /Users/timomichaelis/anaconda3/envs/T1/lib/python3.11/site-packages (from transformers>=4.33.0->TTS) (2024.11.6)\n",
      "Requirement already satisfied: tokenizers<0.22,>=0.21 in /Users/timomichaelis/anaconda3/envs/T1/lib/python3.11/site-packages (from transformers>=4.33.0->TTS) (0.21.0)\n",
      "Requirement already satisfied: safetensors>=0.4.1 in /Users/timomichaelis/anaconda3/envs/T1/lib/python3.11/site-packages (from transformers>=4.33.0->TTS) (0.5.3)\n",
      "Requirement already satisfied: pynndescent>=0.5 in /Users/timomichaelis/anaconda3/envs/T1/lib/python3.11/site-packages (from umap-learn>=0.5.1->TTS) (0.5.13)\n",
      "Requirement already satisfied: pycparser in /Users/timomichaelis/anaconda3/envs/T1/lib/python3.11/site-packages (from cffi>=1.0->soundfile>=0.12.0->TTS) (2.22)\n",
      "Requirement already satisfied: tzlocal in /Users/timomichaelis/anaconda3/envs/T1/lib/python3.11/site-packages (from dateparser~=1.1.0->gruut[de,es,fr]==2.2.3->TTS) (5.3)\n",
      "Requirement already satisfied: MarkupSafe>=2.0 in /Users/timomichaelis/anaconda3/envs/T1/lib/python3.11/site-packages (from Jinja2>=3.1.2->flask>=2.0.1->TTS) (2.1.1)\n",
      "Requirement already satisfied: six in /Users/timomichaelis/anaconda3/envs/T1/lib/python3.11/site-packages (from jsonlines~=1.2.0->gruut[de,es,fr]==2.2.3->TTS) (1.16.0)\n",
      "Requirement already satisfied: language-data>=1.2 in /Users/timomichaelis/anaconda3/envs/T1/lib/python3.11/site-packages (from langcodes<4.0.0,>=3.2.0->spacy[ja]>=3->TTS) (1.3.0)\n"
     ]
    },
    {
     "name": "stdout",
     "output_type": "stream",
     "text": [
      "Requirement already satisfied: platformdirs>=2.5.0 in /Users/timomichaelis/anaconda3/envs/T1/lib/python3.11/site-packages (from pooch>=1.1->librosa>=0.10.0->TTS) (3.10.0)\n",
      "Requirement already satisfied: annotated-types>=0.6.0 in /Users/timomichaelis/anaconda3/envs/T1/lib/python3.11/site-packages (from pydantic!=1.8,!=1.8.1,<3.0.0,>=1.7.4->spacy[ja]>=3->TTS) (0.7.0)\n",
      "Requirement already satisfied: pydantic-core==2.27.2 in /Users/timomichaelis/anaconda3/envs/T1/lib/python3.11/site-packages (from pydantic!=1.8,!=1.8.1,<3.0.0,>=1.7.4->spacy[ja]>=3->TTS) (2.27.2)\n",
      "Requirement already satisfied: charset_normalizer<4,>=2 in /Users/timomichaelis/anaconda3/envs/T1/lib/python3.11/site-packages (from requests<3.0.0,>=2.13.0->spacy[ja]>=3->TTS) (3.2.0)\n",
      "Requirement already satisfied: idna<4,>=2.5 in /Users/timomichaelis/anaconda3/envs/T1/lib/python3.11/site-packages (from requests<3.0.0,>=2.13.0->spacy[ja]>=3->TTS) (3.10)\n",
      "Requirement already satisfied: urllib3<3,>=1.21.1 in /Users/timomichaelis/anaconda3/envs/T1/lib/python3.11/site-packages (from requests<3.0.0,>=2.13.0->spacy[ja]>=3->TTS) (2.0.4)\n",
      "Requirement already satisfied: certifi>=2017.4.17 in /Users/timomichaelis/anaconda3/envs/T1/lib/python3.11/site-packages (from requests<3.0.0,>=2.13.0->spacy[ja]>=3->TTS) (2025.1.31)\n",
      "Requirement already satisfied: blis<1.3.0,>=1.2.0 in /Users/timomichaelis/anaconda3/envs/T1/lib/python3.11/site-packages (from thinc<8.4.0,>=8.3.4->spacy[ja]>=3->TTS) (1.2.0)\n",
      "Requirement already satisfied: confection<1.0.0,>=0.0.1 in /Users/timomichaelis/anaconda3/envs/T1/lib/python3.11/site-packages (from thinc<8.4.0,>=8.3.4->spacy[ja]>=3->TTS) (0.1.5)\n",
      "Requirement already satisfied: shellingham>=1.3.0 in /Users/timomichaelis/anaconda3/envs/T1/lib/python3.11/site-packages (from typer<1.0.0,>=0.3.0->spacy[ja]>=3->TTS) (1.5.4)\n",
      "Requirement already satisfied: rich>=10.11.0 in /Users/timomichaelis/anaconda3/envs/T1/lib/python3.11/site-packages (from typer<1.0.0,>=0.3.0->spacy[ja]>=3->TTS) (13.9.4)\n",
      "Requirement already satisfied: cloudpathlib<1.0.0,>=0.7.0 in /Users/timomichaelis/anaconda3/envs/T1/lib/python3.11/site-packages (from weasel<0.5.0,>=0.1.0->spacy[ja]>=3->TTS) (0.20.0)\n",
      "Requirement already satisfied: smart-open<8.0.0,>=5.2.1 in /Users/timomichaelis/anaconda3/envs/T1/lib/python3.11/site-packages (from weasel<0.5.0,>=0.1.0->spacy[ja]>=3->TTS) (7.1.0)\n",
      "Requirement already satisfied: absl-py>=0.4 in /Users/timomichaelis/anaconda3/envs/T1/lib/python3.11/site-packages (from tensorboard->trainer>=0.0.32->TTS) (2.1.0)\n",
      "Requirement already satisfied: grpcio>=1.48.2 in /Users/timomichaelis/anaconda3/envs/T1/lib/python3.11/site-packages (from tensorboard->trainer>=0.0.32->TTS) (1.62.2)\n",
      "Requirement already satisfied: markdown>=2.6.8 in /Users/timomichaelis/anaconda3/envs/T1/lib/python3.11/site-packages (from tensorboard->trainer>=0.0.32->TTS) (3.6)\n",
      "Requirement already satisfied: protobuf in /Users/timomichaelis/anaconda3/envs/T1/lib/python3.11/site-packages (from tensorboard->trainer>=0.0.32->TTS) (4.25.3)\n",
      "Requirement already satisfied: tensorboard-data-server<0.8.0,>=0.7.0 in /Users/timomichaelis/anaconda3/envs/T1/lib/python3.11/site-packages (from tensorboard->trainer>=0.0.32->TTS) (0.7.0)\n",
      "Requirement already satisfied: marisa-trie>=1.1.0 in /Users/timomichaelis/anaconda3/envs/T1/lib/python3.11/site-packages (from language-data>=1.2->langcodes<4.0.0,>=3.2.0->spacy[ja]>=3->TTS) (1.2.1)\n",
      "Requirement already satisfied: markdown-it-py>=2.2.0 in /Users/timomichaelis/anaconda3/envs/T1/lib/python3.11/site-packages (from rich>=10.11.0->typer<1.0.0,>=0.3.0->spacy[ja]>=3->TTS) (3.0.0)\n",
      "Requirement already satisfied: pygments<3.0.0,>=2.13.0 in /Users/timomichaelis/anaconda3/envs/T1/lib/python3.11/site-packages (from rich>=10.11.0->typer<1.0.0,>=0.3.0->spacy[ja]>=3->TTS) (2.15.1)\n",
      "Requirement already satisfied: wrapt in /Users/timomichaelis/anaconda3/envs/T1/lib/python3.11/site-packages (from smart-open<8.0.0,>=5.2.1->weasel<0.5.0,>=0.1.0->spacy[ja]>=3->TTS) (1.17.0)\n",
      "Requirement already satisfied: mdurl~=0.1 in /Users/timomichaelis/anaconda3/envs/T1/lib/python3.11/site-packages (from markdown-it-py>=2.2.0->rich>=10.11.0->typer<1.0.0,>=0.3.0->spacy[ja]>=3->TTS) (0.1.2)\n",
      "Note: you may need to restart the kernel to use updated packages.\n"
     ]
    }
   ],
   "source": [
    "\n"
   ]
  },
  {
   "cell_type": "code",
   "execution_count": null,
   "id": "03e62f42",
   "metadata": {},
   "outputs": [
    {
     "name": "stderr",
     "output_type": "stream",
     "text": [
      "UsageError: Line magic function `%python3` not found (But cell magic `%%python3` exists, did you mean that instead?).\n"
     ]
    }
   ],
   "source": []
  },
  {
   "cell_type": "code",
   "execution_count": null,
   "id": "876c650f",
   "metadata": {},
   "outputs": [
    {
     "name": "stderr",
     "output_type": "stream",
     "text": [
      "/Users/timomichaelis/anaconda3/envs/T1/lib/python3.11/site-packages/torch/utils/_pytree.py:185: FutureWarning: optree is installed but the version is too old to support PyTorch Dynamo in C++ pytree. C++ pytree support is disabled. Please consider upgrading optree using `python3 -m pip install --upgrade 'optree>=0.13.0'`.\n",
      "  warnings.warn(\n"
     ]
    },
    {
     "ename": "AttributeError",
     "evalue": "partially initialized module 'charset_normalizer' has no attribute 'md__mypyc' (most likely due to a circular import)",
     "output_type": "error",
     "traceback": [
      "\u001b[0;31m---------------------------------------------------------------------------\u001b[0m",
      "\u001b[0;31mAttributeError\u001b[0m                            Traceback (most recent call last)",
      "Cell \u001b[0;32mIn[3], line 1\u001b[0m\n\u001b[0;32m----> 1\u001b[0m \u001b[38;5;28;01mfrom\u001b[39;00m \u001b[38;5;21;01mTTS\u001b[39;00m\u001b[38;5;21;01m.\u001b[39;00m\u001b[38;5;21;01mapi\u001b[39;00m \u001b[38;5;28;01mimport\u001b[39;00m TTS\n\u001b[1;32m      2\u001b[0m \u001b[38;5;28;01mfrom\u001b[39;00m \u001b[38;5;21;01mIPython\u001b[39;00m\u001b[38;5;21;01m.\u001b[39;00m\u001b[38;5;21;01mdisplay\u001b[39;00m \u001b[38;5;28;01mimport\u001b[39;00m Audio\n\u001b[1;32m      3\u001b[0m \u001b[38;5;28;01mimport\u001b[39;00m \u001b[38;5;21;01mlibrosa\u001b[39;00m\n",
      "File \u001b[0;32m~/anaconda3/envs/T1/lib/python3.11/site-packages/TTS/api.py:10\u001b[0m\n\u001b[1;32m      7\u001b[0m \u001b[38;5;28;01mfrom\u001b[39;00m \u001b[38;5;21;01mtorch\u001b[39;00m \u001b[38;5;28;01mimport\u001b[39;00m nn\n\u001b[1;32m      9\u001b[0m \u001b[38;5;28;01mfrom\u001b[39;00m \u001b[38;5;21;01mTTS\u001b[39;00m\u001b[38;5;21;01m.\u001b[39;00m\u001b[38;5;21;01mutils\u001b[39;00m\u001b[38;5;21;01m.\u001b[39;00m\u001b[38;5;21;01maudio\u001b[39;00m\u001b[38;5;21;01m.\u001b[39;00m\u001b[38;5;21;01mnumpy_transforms\u001b[39;00m \u001b[38;5;28;01mimport\u001b[39;00m save_wav\n\u001b[0;32m---> 10\u001b[0m \u001b[38;5;28;01mfrom\u001b[39;00m \u001b[38;5;21;01mTTS\u001b[39;00m\u001b[38;5;21;01m.\u001b[39;00m\u001b[38;5;21;01mutils\u001b[39;00m\u001b[38;5;21;01m.\u001b[39;00m\u001b[38;5;21;01mmanage\u001b[39;00m \u001b[38;5;28;01mimport\u001b[39;00m ModelManager\n\u001b[1;32m     11\u001b[0m \u001b[38;5;28;01mfrom\u001b[39;00m \u001b[38;5;21;01mTTS\u001b[39;00m\u001b[38;5;21;01m.\u001b[39;00m\u001b[38;5;21;01mutils\u001b[39;00m\u001b[38;5;21;01m.\u001b[39;00m\u001b[38;5;21;01msynthesizer\u001b[39;00m \u001b[38;5;28;01mimport\u001b[39;00m Synthesizer\n\u001b[1;32m     12\u001b[0m \u001b[38;5;28;01mfrom\u001b[39;00m \u001b[38;5;21;01mTTS\u001b[39;00m\u001b[38;5;21;01m.\u001b[39;00m\u001b[38;5;21;01mconfig\u001b[39;00m \u001b[38;5;28;01mimport\u001b[39;00m load_config\n",
      "File \u001b[0;32m~/anaconda3/envs/T1/lib/python3.11/site-packages/TTS/utils/manage.py:11\u001b[0m\n\u001b[1;32m      8\u001b[0m \u001b[38;5;28;01mfrom\u001b[39;00m \u001b[38;5;21;01mtyping\u001b[39;00m \u001b[38;5;28;01mimport\u001b[39;00m Dict, List, Tuple\n\u001b[1;32m     10\u001b[0m \u001b[38;5;28;01mimport\u001b[39;00m \u001b[38;5;21;01mfsspec\u001b[39;00m\n\u001b[0;32m---> 11\u001b[0m \u001b[38;5;28;01mimport\u001b[39;00m \u001b[38;5;21;01mrequests\u001b[39;00m\n\u001b[1;32m     12\u001b[0m \u001b[38;5;28;01mfrom\u001b[39;00m \u001b[38;5;21;01mtqdm\u001b[39;00m \u001b[38;5;28;01mimport\u001b[39;00m tqdm\n\u001b[1;32m     14\u001b[0m \u001b[38;5;28;01mfrom\u001b[39;00m \u001b[38;5;21;01mTTS\u001b[39;00m\u001b[38;5;21;01m.\u001b[39;00m\u001b[38;5;21;01mconfig\u001b[39;00m \u001b[38;5;28;01mimport\u001b[39;00m load_config, read_json_with_comments\n",
      "File \u001b[0;32m~/anaconda3/envs/T1/lib/python3.11/site-packages/requests/__init__.py:48\u001b[0m\n\u001b[1;32m     45\u001b[0m \u001b[38;5;28;01mfrom\u001b[39;00m \u001b[38;5;21;01m.\u001b[39;00m\u001b[38;5;21;01mexceptions\u001b[39;00m \u001b[38;5;28;01mimport\u001b[39;00m RequestsDependencyWarning\n\u001b[1;32m     47\u001b[0m \u001b[38;5;28;01mtry\u001b[39;00m:\n\u001b[0;32m---> 48\u001b[0m     \u001b[38;5;28;01mfrom\u001b[39;00m \u001b[38;5;21;01mcharset_normalizer\u001b[39;00m \u001b[38;5;28;01mimport\u001b[39;00m __version__ \u001b[38;5;28;01mas\u001b[39;00m charset_normalizer_version\n\u001b[1;32m     49\u001b[0m \u001b[38;5;28;01mexcept\u001b[39;00m \u001b[38;5;167;01mImportError\u001b[39;00m:\n\u001b[1;32m     50\u001b[0m     charset_normalizer_version \u001b[38;5;241m=\u001b[39m \u001b[38;5;28;01mNone\u001b[39;00m\n",
      "File \u001b[0;32m~/anaconda3/envs/T1/lib/python3.11/site-packages/charset_normalizer/__init__.py:26\u001b[0m\n\u001b[1;32m     22\u001b[0m \u001b[38;5;28;01mfrom\u001b[39;00m \u001b[38;5;21;01m__future__\u001b[39;00m \u001b[38;5;28;01mimport\u001b[39;00m annotations\n\u001b[1;32m     24\u001b[0m \u001b[38;5;28;01mimport\u001b[39;00m \u001b[38;5;21;01mlogging\u001b[39;00m\n\u001b[0;32m---> 26\u001b[0m \u001b[38;5;28;01mfrom\u001b[39;00m \u001b[38;5;21;01m.\u001b[39;00m\u001b[38;5;21;01mapi\u001b[39;00m \u001b[38;5;28;01mimport\u001b[39;00m from_bytes, from_fp, from_path, is_binary\n\u001b[1;32m     27\u001b[0m \u001b[38;5;28;01mfrom\u001b[39;00m \u001b[38;5;21;01m.\u001b[39;00m\u001b[38;5;21;01mlegacy\u001b[39;00m \u001b[38;5;28;01mimport\u001b[39;00m detect\n\u001b[1;32m     28\u001b[0m \u001b[38;5;28;01mfrom\u001b[39;00m \u001b[38;5;21;01m.\u001b[39;00m\u001b[38;5;21;01mmodels\u001b[39;00m \u001b[38;5;28;01mimport\u001b[39;00m CharsetMatch, CharsetMatches\n",
      "File \u001b[0;32m~/anaconda3/envs/T1/lib/python3.11/site-packages/charset_normalizer/api.py:7\u001b[0m\n\u001b[1;32m      4\u001b[0m \u001b[38;5;28;01mfrom\u001b[39;00m \u001b[38;5;21;01mos\u001b[39;00m \u001b[38;5;28;01mimport\u001b[39;00m PathLike\n\u001b[1;32m      5\u001b[0m \u001b[38;5;28;01mfrom\u001b[39;00m \u001b[38;5;21;01mtyping\u001b[39;00m \u001b[38;5;28;01mimport\u001b[39;00m BinaryIO\n\u001b[0;32m----> 7\u001b[0m \u001b[38;5;28;01mfrom\u001b[39;00m \u001b[38;5;21;01m.\u001b[39;00m\u001b[38;5;21;01mcd\u001b[39;00m \u001b[38;5;28;01mimport\u001b[39;00m (\n\u001b[1;32m      8\u001b[0m     coherence_ratio,\n\u001b[1;32m      9\u001b[0m     encoding_languages,\n\u001b[1;32m     10\u001b[0m     mb_encoding_languages,\n\u001b[1;32m     11\u001b[0m     merge_coherence_ratios,\n\u001b[1;32m     12\u001b[0m )\n\u001b[1;32m     13\u001b[0m \u001b[38;5;28;01mfrom\u001b[39;00m \u001b[38;5;21;01m.\u001b[39;00m\u001b[38;5;21;01mconstant\u001b[39;00m \u001b[38;5;28;01mimport\u001b[39;00m IANA_SUPPORTED, TOO_BIG_SEQUENCE, TOO_SMALL_SEQUENCE, TRACE\n\u001b[1;32m     14\u001b[0m \u001b[38;5;28;01mfrom\u001b[39;00m \u001b[38;5;21;01m.\u001b[39;00m\u001b[38;5;21;01mmd\u001b[39;00m \u001b[38;5;28;01mimport\u001b[39;00m mess_ratio\n",
      "File \u001b[0;32m~/anaconda3/envs/T1/lib/python3.11/site-packages/charset_normalizer/cd.py:16\u001b[0m\n\u001b[1;32m      7\u001b[0m \u001b[38;5;28;01mfrom\u001b[39;00m \u001b[38;5;21;01mtyping\u001b[39;00m \u001b[38;5;28;01mimport\u001b[39;00m Counter \u001b[38;5;28;01mas\u001b[39;00m TypeCounter\n\u001b[1;32m      9\u001b[0m \u001b[38;5;28;01mfrom\u001b[39;00m \u001b[38;5;21;01m.\u001b[39;00m\u001b[38;5;21;01mconstant\u001b[39;00m \u001b[38;5;28;01mimport\u001b[39;00m (\n\u001b[1;32m     10\u001b[0m     FREQUENCIES,\n\u001b[1;32m     11\u001b[0m     KO_NAMES,\n\u001b[0;32m   (...)\u001b[0m\n\u001b[1;32m     14\u001b[0m     ZH_NAMES,\n\u001b[1;32m     15\u001b[0m )\n\u001b[0;32m---> 16\u001b[0m \u001b[38;5;28;01mfrom\u001b[39;00m \u001b[38;5;21;01m.\u001b[39;00m\u001b[38;5;21;01mmd\u001b[39;00m \u001b[38;5;28;01mimport\u001b[39;00m is_suspiciously_successive_range\n\u001b[1;32m     17\u001b[0m \u001b[38;5;28;01mfrom\u001b[39;00m \u001b[38;5;21;01m.\u001b[39;00m\u001b[38;5;21;01mmodels\u001b[39;00m \u001b[38;5;28;01mimport\u001b[39;00m CoherenceMatches\n\u001b[1;32m     18\u001b[0m \u001b[38;5;28;01mfrom\u001b[39;00m \u001b[38;5;21;01m.\u001b[39;00m\u001b[38;5;21;01mutils\u001b[39;00m \u001b[38;5;28;01mimport\u001b[39;00m (\n\u001b[1;32m     19\u001b[0m     is_accentuated,\n\u001b[1;32m     20\u001b[0m     is_latin,\n\u001b[0;32m   (...)\u001b[0m\n\u001b[1;32m     23\u001b[0m     unicode_range,\n\u001b[1;32m     24\u001b[0m )\n",
      "\u001b[0;31mAttributeError\u001b[0m: partially initialized module 'charset_normalizer' has no attribute 'md__mypyc' (most likely due to a circular import)"
     ]
    }
   ],
   "source": []
  },
  {
   "cell_type": "code",
   "execution_count": null,
   "id": "01ecac0c",
   "metadata": {},
   "outputs": [],
   "source": [
    " "
   ]
  }
 ],
 "metadata": {
  "kernelspec": {
   "display_name": "T1",
   "language": "python",
   "name": "t1"
  },
  "language_info": {
   "codemirror_mode": {
    "name": "ipython",
    "version": 3
   },
   "file_extension": ".py",
   "mimetype": "text/x-python",
   "name": "python",
   "nbconvert_exporter": "python",
   "pygments_lexer": "ipython3",
   "version": "3.11.4"
  }
 },
 "nbformat": 4,
 "nbformat_minor": 5
}
