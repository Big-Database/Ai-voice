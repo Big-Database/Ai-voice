{
 "cells": [
  {
   "cell_type": "code",
   "execution_count": null,
   "metadata": {},
   "outputs": [],
   "source": [
    "!pip -q install TTS soundfile\n",
    "\n",
    "from huggingface_hub import snapshot_download\n",
    "!git clone https://huggingface.co/coqui/XTTS-v2\n",
    "\n",
    "from TTS.tts.configs.xtts_config import XttsConfig\n",
    "from TTS.tts.models.xtts import Xtts\n",
    "import soundfile as sf\n",
    "import os\n",
    "\n",
    "config = XttsConfig()\n",
    "config.load_json(\"/content/XTTS-v2/config.json\")\n",
    "model = Xtts.init_from_config(config)\n",
    "model.load_checkpoint(config, checkpoint_dir=\"/content/XTTS-v2/\", eval=True)\n",
    "model.cuda()\n",
    "\n",
    "def process_tts(input_text, speaker_audio, lang, output_file):\n",
    "    outputs = model.synthesize(\n",
    "      input_text,\n",
    "      config,\n",
    "      speaker_wav=speaker_audio,\n",
    "      gpt_cond_len=3,\n",
    "      language=lang,\n",
    "    )\n",
    "    audio_data = outputs[\"wav\"]\n",
    "    sample_rate = 24000\n",
    "    sf.write(output_file, audio_data, sample_rate)\n",
    "    print(\"Audio saved successfully!\")"
   ]
  },
  {
   "cell_type": "code",
   "execution_count": null,
   "metadata": {},
   "outputs": [],
   "source": [
    "text_en = \"\"\"The quick brown fox jumps over the lazy dog near the idyllic riverbank, causing ripples in the water's mirrored surface.\n",
    "In the silence of the ancient library, amidst the scent of old books, a whisper echoed: \"Preserve the knowledge, for it holds the key to the future.\"\"\"\n",
    "\n",
    "reference_audio = \"/content/XTTS-v2/samples/female_en.wav\"\n",
    "process_tts(text_en, reference_audio, \"en\", \"audio_output.wav\")"
   ]
  }
 ],
 "metadata": {
  "language_info": {
   "name": "python"
  }
 },
 "nbformat": 4,
 "nbformat_minor": 2
}
